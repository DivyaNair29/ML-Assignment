{
 "cells": [
  {
   "cell_type": "markdown",
   "id": "bf639938",
   "metadata": {},
   "source": [
    "1. What is the concept of supervised learning? What is the significance of the name?\n",
    "\n",
    "Ans: Supervised learning, also known as supervised machine learning, is a subcategory of machine learning and artificial intelligence. It is defined by its use of labeled datasets to train algorithms that to classify data or predict outcomes accurately. As input data is fed into the model, it adjusts its weights until the model has been fitted appropriately, which occurs as part of the cross validation process. Supervised learning helps organizations solve for a variety of real-world problems at scale, such as classifying spam in a separate folder from your inbox."
   ]
  },
  {
   "cell_type": "markdown",
   "id": "6f179984",
   "metadata": {},
   "source": [
    "2. In the hospital sector, offer an example of supervised learning.\n",
    "\n",
    "Ans: Helps Analyze the Errors in Prescriptions\n",
    "\n",
    "Machine learning can detect and analyze the errors in the prescriptions too. The intelligence can inspect the patient’s health records with the given prescriptions to find and correct the possible errors in the medication."
   ]
  },
  {
   "cell_type": "markdown",
   "id": "b39d6b5b",
   "metadata": {},
   "source": [
    "3. Give three supervised learning examples.\n",
    "\n",
    "Ans: 1) Disease Detection\n",
    "2) Spam Detection\n",
    "3) Weather Forecast"
   ]
  },
  {
   "cell_type": "markdown",
   "id": "6571edbb",
   "metadata": {},
   "source": [
    "4. In supervised learning, what are classification and regression?\n",
    "\n",
    "Ans: Regression Algorithms are used with continuous data. Classification Algorithms are used with discrete data. In Regression, we try to find the best fit line, which can predict the output more accurately. In Classification, we try to find the decision boundary, which can divide the dataset into different classes."
   ]
  },
  {
   "cell_type": "markdown",
   "id": "716070d5",
   "metadata": {},
   "source": [
    "5. Give some popular classification algorithms as examples.\n",
    "\n",
    "Ans: Logistic Regression, Naive Bayes, K-Nearest Neighbors, Decision Tree, Support Vector Machines"
   ]
  },
  {
   "cell_type": "markdown",
   "id": "c7aa9ec9",
   "metadata": {},
   "source": [
    "6. Briefly describe the SVM model.\n",
    "\n",
    "Ans: A support vector machine (SVM) is a supervised machine learning model that uses classification algorithms for two-group classification problems. After giving an SVM model sets of labeled training data for each category, they’re able to categorize new text."
   ]
  },
  {
   "cell_type": "markdown",
   "id": "9d48bfd2",
   "metadata": {},
   "source": [
    "7. In SVM, what is the cost of misclassification?\n",
    "\n",
    "Ans: Misclassification costs are basically weights applied to specific outcomes. These weights are factored into the model and may actually change the prediction (as a way of protecting against costly mistakes)."
   ]
  },
  {
   "cell_type": "markdown",
   "id": "05e858a5",
   "metadata": {},
   "source": [
    "8. In the SVM model, define Support Vectors.\n",
    "\n",
    "Ans: Support Vectors: These are the points that are closest to the hyperplane. A separating line will be defined with the help of these data points. Margin: it is the distance between the hyperplane and the observations closest to the hyperplane (support vectors). In SVM large margin is considered a good margin."
   ]
  },
  {
   "cell_type": "markdown",
   "id": "51d8b18f",
   "metadata": {},
   "source": [
    "9. In the SVM model, define the kernel.\n",
    "\n",
    "Ans: “Kernel” is used due to a set of mathematical functions used in Support Vector Machine providing the window to manipulate the data. So, Kernel Function generally transforms the training set of data so that a non-linear decision surface is able to transform to a linear equation in a higher number of dimension spaces."
   ]
  },
  {
   "cell_type": "markdown",
   "id": "f4e8c8e5",
   "metadata": {},
   "source": [
    "10. What are the factors that influence SVM&#39;s effectiveness?\n",
    "\n",
    "Ans: The effectiveness of SVM depends on the selection of kernel, kernel's parameters and soft margin parameter C."
   ]
  },
  {
   "cell_type": "markdown",
   "id": "bebc4f87",
   "metadata": {},
   "source": [
    "11. What are the benefits of using the SVM model?\n",
    "\n",
    "Ans: The advantages of SVM and support vector regression include that they can be used to avoid the difficulties of using linear functions in the high-dimensional feature space, and the optimization problem is transformed into dual convex quadratic programs."
   ]
  },
  {
   "cell_type": "markdown",
   "id": "9e62b48d",
   "metadata": {},
   "source": [
    "12. What are the drawbacks of using the SVM model?\n",
    "\n",
    "Ans: SVM algorithm is not suitable for large data sets. SVM does not perform very well when the data set has more noise i.e. target classes are overlapping. In cases where the number of features for each data point exceeds the number of training data samples, the SVM will underperform."
   ]
  },
  {
   "cell_type": "markdown",
   "id": "1373462a",
   "metadata": {},
   "source": [
    "13. Notes should be written on\n",
    "\n",
    "1. The kNN algorithm has a validation flaw.\n",
    "\n",
    "2. In the kNN algorithm, the k value is chosen.\n",
    "\n",
    "3. A decision tree with inductive bias\n"
   ]
  },
  {
   "cell_type": "markdown",
   "id": "5b0d0e25",
   "metadata": {},
   "source": [
    "1) The relatively low accuracy of kNN is caused by several factors. One of them is that every characteristic of the method has the same result on calculating distance. The solution of this problem is to give weight to each data characteristic\n",
    "\n",
    "2) The choice of k will largely depend on the input data as data with more outliers or noise will likely perform better with higher values of k. Overall, it is recommended to have an odd number for k to avoid ties in classification, and cross-validation tactics can help you choose the optimal k for your dataset.\n",
    "\n",
    "3) Shorter trees are preferred over longer trees. Trees that place high information gain attributes close to the root are preferred over those that do not."
   ]
  },
  {
   "cell_type": "markdown",
   "id": "a954b5ca",
   "metadata": {},
   "source": [
    "14. What are some of the benefits of the kNN algorithm?\n",
    "\n",
    "Ans: Quick calculation time.\n",
    "    Simple algorithm – to interpret.\n",
    "    Versatile – useful for regression and classification.\n",
    "    High accuracy – you do not need to compare with better-supervised learning models."
   ]
  },
  {
   "cell_type": "markdown",
   "id": "12e407b0",
   "metadata": {},
   "source": [
    "15. What are some of the kNN algorithm&#39;s drawbacks?\n",
    "\n",
    "Ans: Accuracy depends on the quality of the data.\n",
    "With large data, the prediction stage might be slow.\n",
    "Sensitive to the scale of the data and irrelevant features.\n",
    "Require high memory – need to store all of the training data."
   ]
  },
  {
   "cell_type": "markdown",
   "id": "69da8340",
   "metadata": {},
   "source": [
    "16. Explain the decision tree algorithm in a few words.\n",
    "\n",
    "Ans: A decision tree algorithm is a machine learning algorithm that uses a decision tree to make predictions. It follows a tree-like model of decisions and their possible consequences. The algorithm works by recursively splitting the data into subsets based on the most significant feature at each node of the tree."
   ]
  },
  {
   "cell_type": "markdown",
   "id": "fc7774b2",
   "metadata": {},
   "source": [
    "17. What is the difference between a node and a leaf in a decision tree?\n",
    "\n",
    "Ans: Leaf nodes are the nodes of the tree that have no additional nodes coming off them. They don't split the data any further; they simply give a classification for examples that end up in that node. In your example tree diagram, the nodes that say 'Large', 'Medium' or 'Small' are leaf nodes. The other nodes in the tree are interchangeably called split nodes, decision nodes or internal nodes."
   ]
  },
  {
   "cell_type": "markdown",
   "id": "c1fa5a23",
   "metadata": {},
   "source": [
    "18. What is a decision tree&#39;s entropy?\n",
    "\n",
    "Ans: n the context of Decision Trees, entropy is a measure of disorder or impurity in a node. Thus, a node with more variable composition, such as 2Pass and 2 Fail would be considered to have higher Entropy than a node which has only pass or only fail."
   ]
  },
  {
   "cell_type": "markdown",
   "id": "1ad48ca4",
   "metadata": {},
   "source": [
    "19. In a decision tree, define knowledge gain.\n",
    "\n",
    "Ans: Information gain is the basic criterion to decide whether a feature should be used to split a node or not. The feature with the optimal split i.e., the highest value of information gain at a node of a decision tree is used as the feature for splitting the node."
   ]
  },
  {
   "cell_type": "markdown",
   "id": "af443c32",
   "metadata": {},
   "source": [
    "20. Choose three advantages of the decision tree approach and write them down.\n",
    "\n",
    "Ans: A significant advantage of a decision tree is that it forces the consideration of all possible outcomes of a decision and traces each path to a conclusion. It creates a comprehensive analysis of the consequences along each branch and identifies decision nodes that need further analysis."
   ]
  },
  {
   "cell_type": "markdown",
   "id": "32c124d7",
   "metadata": {},
   "source": [
    "21. Make a list of three flaws in the decision tree process.\n",
    "\n",
    "Ans: 1) A small change in the data can cause a large change in the structure of the decision tree causing instability.\n",
    "    \n",
    "    2) For a Decision tree sometimes calculation can go far more complex compared to other algorithms.\n",
    "    \n",
    "    3) Decision tree often involves higher time to train the model."
   ]
  },
  {
   "cell_type": "markdown",
   "id": "7c221973",
   "metadata": {},
   "source": [
    "22. Briefly describe the random forest model.\n",
    "\n",
    "Ans: Random Forest is a popular machine learning algorithm used for classification and regression tasks due to its high accuracy, robustness, feature importance, versatility, and scalability. Random Forest reduces overfitting by averaging multiple decision trees and is less sensitive to noise and outliers in the data."
   ]
  }
 ],
 "metadata": {
  "kernelspec": {
   "display_name": "Python 3 (ipykernel)",
   "language": "python",
   "name": "python3"
  },
  "language_info": {
   "codemirror_mode": {
    "name": "ipython",
    "version": 3
   },
   "file_extension": ".py",
   "mimetype": "text/x-python",
   "name": "python",
   "nbconvert_exporter": "python",
   "pygments_lexer": "ipython3",
   "version": "3.9.7"
  }
 },
 "nbformat": 4,
 "nbformat_minor": 5
}
