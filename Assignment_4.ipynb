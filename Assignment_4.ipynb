{
 "cells": [
  {
   "cell_type": "markdown",
   "id": "51ca16ef",
   "metadata": {},
   "source": [
    "1. What are the key tasks involved in getting ready to work with machine learning modeling?\n",
    "\n",
    "Ans: Data collection, data pre-processing, data transformation, data split, model training, model evaluation and then hypertunning."
   ]
  },
  {
   "cell_type": "markdown",
   "id": "be5b5555",
   "metadata": {},
   "source": [
    "2. What are the different forms of data used in machine learning? Give a specific example for each of\n",
    "them.\n",
    "\n",
    "Ans: Numerical data, Categorical data, Time-series data, and Text."
   ]
  },
  {
   "cell_type": "markdown",
   "id": "bcc37426",
   "metadata": {},
   "source": [
    "3. Distinguish:\n",
    "\n",
    "1. Numeric vs. categorical attributes\n",
    "\n",
    "2. Feature selection vs. dimensionality reduction\n",
    "\n",
    "\n",
    "Ans: 1) Categorical - Categorical data can be put in groups or categories using names or labels. This grouping is typically generated using a matching procedure based on data attributes and similarities between these qualities. The two types of categorical attributes are: Nominal and Ordinal data.\n",
    "\n",
    "Numerical - Data expressed in numerical terms rather than in natural language descriptions are called numerical data. It can only be gathered in numerical form, keeping its name. This numerical data type also referred to as quantitative data can be used to measure a person’s height, weight, IQ, etc. The two types of numerical attributes are: Discrete and Continuous data.\n",
    "\n",
    "2) Feature Selection - Feature selection is simply selecting and excluding given features without changing them.Remove features with missing values, Remove features with low variance, Remove highly correlated features, Univariate feature selection,  Recursive feature elimination, Feature selection using SelectFromModel.\n",
    "\n",
    "Dimensionality Reduction - Dimensionality reduction transforms features into a lower dimension.PCA is one of the dimension reduction technique."
   ]
  },
  {
   "cell_type": "markdown",
   "id": "20925bd4",
   "metadata": {},
   "source": [
    "4. Make quick notes on any two of the following:\n",
    "\n",
    "1. The histogram\n",
    "\n",
    "2. Use a scatter plot\n",
    "\n",
    "3.PCA (Personal Computer Aid)\n",
    "\n",
    "\n",
    "Ans: The histogram - Histograms are a type of bar chart. While the bars on a typical bar chart represent categorical groups, the bars on a histogram represent ranges along a continuous, quantifiable spectrum.\n",
    "In other words, you split the data into bins in order to view the distribution of values within a range. The bins are of equal length (and can be empty), and the bins are contiguous. The height of each bar represents the count (or proportion) of the items in the bin. The number of bins is up to the user, though Metabase will automatically select the number of bins for you.\n",
    "\n",
    "Use a Scatter Plot - Scatter plots are the graphs that present the relationship between two variables in a data-set. It represents data points on a two-dimensional plane or on a Cartesian system. The independent variable or attribute is plotted on the X-axis, while the dependent variable is plotted on the Y-axis. These plots are often called scatter graphs or scatter diagrams. Scatter plots instantly report a large volume of data. It is beneficial in the following situations –\n",
    "\n",
    "    1) For a large set of data points given\n",
    "    2) Each set comprises a pair of values\n",
    "    3) The given data is in numeric form\n"
   ]
  },
  {
   "cell_type": "markdown",
   "id": "765871ad",
   "metadata": {},
   "source": [
    "5. Why is it necessary to investigate data? Is there a discrepancy in how qualitative and quantitative\n",
    "data are explored?\n",
    "\n",
    "Ans: Investigation of data is one of the crucial step in model building. It helps in finding types of data, any missing values, identification of outliers, imbalanced data etc. Model building without any investigation of data may lead to poor model performance and accuracy.\n",
    "    Quantitative data refers to any information that can be quantified, counted or measured, and given a numerical value. Qualitative data is descriptive in nature, expressed in terms of language rather than numerical values.\n",
    "Quantitative research is based on numeric data. Qualitative research focuses on the qualities of users—the 'why' behind the numbers.\n",
    "It's hard to conduct a successful data analysis without qualitative and quantitative data. They both have their advantages and disadvantages and often complement each other.\n",
    "This might create some discrepance in how these datas are explored."
   ]
  },
  {
   "cell_type": "markdown",
   "id": "0211a949",
   "metadata": {},
   "source": [
    "6. What are the various histogram shapes? What exactly are ‘bins&#39;?\n",
    "\n",
    "Ans: The various histogram shapes are skewed, double-peaked, plateau etc.\n",
    "A bin is a single range of continuous values used to group values in a chart. Binning data helps simplify data visualizations, so people can get a sense of their data's distribution and easily spot outliers."
   ]
  },
  {
   "cell_type": "markdown",
   "id": "f4a8a028",
   "metadata": {},
   "source": [
    "7. How do we deal with data outliers?\n",
    "\n",
    "Ans: One of the way is Removing Outliers using Standard Deviation. Another way we can remove outliers is by calculating upper boundary and lower boundary by taking 3 standard deviation from the mean of the values (assuming the data is Normally/Gaussian distributed)."
   ]
  },
  {
   "cell_type": "markdown",
   "id": "e9e935c4",
   "metadata": {},
   "source": [
    "8. What are the various central inclination measures? Why does mean vary too much from median in\n",
    "certain data sets?\n",
    "\n",
    "Ans: Various central inclination measures are: Mean, Median and Mode.\n",
    "In a positively skewed distribution, the mean is greater than the median as the data is more towards the lower side and the mean average of all the values. In contrast, the median is the middle value of the data. So, if the data is more bent towards the lower side, the average will be more than the middle value."
   ]
  },
  {
   "cell_type": "markdown",
   "id": "f486cf90",
   "metadata": {},
   "source": [
    "9. Describe how a scatter plot can be used to investigate bivariate relationships. Is it possible to find\n",
    "outliers using a scatter plot?\n",
    "\n",
    "Ans: A scatter plot is the graphic representation of the relationship between the two variables coming from a bivariate data set. Think of them as the graphic representation of two data sets which have been put into place by dedicating each axis in the plot to a different variable. \n",
    "Yes, it is possible to find outliers in scatter plot. Scatter plots often have a pattern. We call a data point an outlier if it doesn't fit the pattern. "
   ]
  },
  {
   "cell_type": "markdown",
   "id": "7a97bfea",
   "metadata": {},
   "source": [
    "10. Describe how cross-tabs can be used to figure out how two variables are related.\n",
    "\n",
    "Ans: Cross tabulation is a method to quantitatively analyze the relationship between multiple variables. Also known as contingency tables or cross tabs, cross tabulation groups variables to understand the correlation between different variables. It also shows how correlations change from one variable grouping to another."
   ]
  }
 ],
 "metadata": {
  "kernelspec": {
   "display_name": "Python 3 (ipykernel)",
   "language": "python",
   "name": "python3"
  },
  "language_info": {
   "codemirror_mode": {
    "name": "ipython",
    "version": 3
   },
   "file_extension": ".py",
   "mimetype": "text/x-python",
   "name": "python",
   "nbconvert_exporter": "python",
   "pygments_lexer": "ipython3",
   "version": "3.9.7"
  }
 },
 "nbformat": 4,
 "nbformat_minor": 5
}
