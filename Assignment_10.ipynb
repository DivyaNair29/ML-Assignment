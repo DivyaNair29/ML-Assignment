{
 "cells": [
  {
   "cell_type": "markdown",
   "id": "43351166",
   "metadata": {},
   "source": [
    "1. Define the Bayesian interpretation of probability.\n",
    "\n",
    "Ans: Bayesian probability is an interpretation of the concept of probability, in which, instead of frequency or propensity of some phenomenon, probability is interpreted as reasonable expectation representing a state of knowledge or as quantification of a personal belief."
   ]
  },
  {
   "cell_type": "markdown",
   "id": "998dfcab",
   "metadata": {},
   "source": [
    "2. Define probability of a union of two events with equation.\n",
    "\n",
    "Ans: The union of two events is the probability that either A or B will occur. If both events are not mutually exclusive, then this probability is given by:\n",
    "\n",
    "            P(AUB) =  P(A)+P(B)-P(A&B)"
   ]
  },
  {
   "cell_type": "markdown",
   "id": "739bfdb5",
   "metadata": {},
   "source": [
    "3. What is joint probability? What is its formula?\n",
    "\n",
    "Ans: The term joint probability refers to a statistical measure that calculates the likelihood of two events occurring together and at the same point in time. Put simply, a joint probability is the probability of event Y occurring at the same time that event X occurs.\n",
    " \n",
    "           P(A&B) = P(A) * P(B)"
   ]
  },
  {
   "cell_type": "markdown",
   "id": "d99581ff",
   "metadata": {},
   "source": [
    "4. What is chain rule of probability?\n",
    "\n",
    "Ans: The chain rule is used when you have multiple trials, meaning that you want to measure several events one after another. In these cases you need to multiply the probability of the first event by the probability of the second event."
   ]
  },
  {
   "cell_type": "markdown",
   "id": "a0926506",
   "metadata": {},
   "source": [
    "5. What is conditional probability means? What is the formula of it?\n",
    "\n",
    "Ans: Conditional probability is defined as the likelihood of an event or outcome occurring, based on the occurrence of a previous event or outcome. Conditional probability is calculated by multiplying the probability of the preceding event by the updated probability of the succeeding, or conditional, event.\n",
    "\n",
    "        P(B|A) = P(A and B) / P(A) "
   ]
  },
  {
   "cell_type": "markdown",
   "id": "842d1df7",
   "metadata": {},
   "source": [
    "6. What are continuous random variables?\n",
    "\n",
    "Ans: A continuous random variable is a random variable that has only continuous values. Continuous values are uncountable and are related to real numbers. Examples of continuous random variables. The time it takes to complete an exam for a 60 minute test Possible values = all real numbers on the interval [0,60]"
   ]
  },
  {
   "attachments": {},
   "cell_type": "markdown",
   "id": "7ef0622d",
   "metadata": {},
   "source": [
    "7. What are Bernoulli distributions? What is the formula of it?\n",
    "\n",
    "Ans: Bernoulli Distribution is a special kind of distribution that is used to model real-life examples and can be used in many different types of applications. A random experiment that can only have an outcome of either 1 or 0 is known as a Bernoulli trial. Such an experiment is used in a Bernoulli distribution.\n",
    "\n",
    "    P(X=x) = p^x(1-p)^1-x\n",
    "    \n",
    "    Here, ‘x’ is the outcome, which can either be a success (x=1), or failure, ( x=0)\n",
    "    ‘p’ is the probability of getting success.\n",
    "    q = 1-p, and it denoted the probability of failure.\n",
    "    The value of p is 0 < p < 1."
   ]
  },
  {
   "cell_type": "markdown",
   "id": "08834e62",
   "metadata": {},
   "source": [
    "8. What is binomial distribution? What is the formula?\n",
    "\n",
    "Ans:  Binomial distribution is a statistical distribution that summarizes the probability that a value will take one of two independent values under a given set of parameters or assumptions. The underlying assumptions of binomial distribution are that there is only one outcome for each trial, each trial has the same probability of success, and each trial is mutually exclusive or independent of one another. \n",
    "\n",
    " P( x : n , p ) = n C x p x ( 1 - p ) n - x\n",
    " \n",
    " Where:\n",
    "\n",
    "    n is the number of trials (occurrences)\n",
    "    x is the number of successful trials\n",
    "    p is the probability of success in a single trial\n",
    "    n C x is the combination of n and x. A combination is the number of ways to choose a sample of x elements from a set of n distinct objects where order does not matter, and replacements are not allowed. Note that nCx = n! / r! ( n − r ) ! ), where ! is factorial (so, 4! = 4 × 3 × 2 × 1).\n"
   ]
  },
  {
   "cell_type": "markdown",
   "id": "704b7bed",
   "metadata": {},
   "source": [
    "9. What is Poisson distribution? What is the formula?\n",
    "\n",
    "Ans: Poisson distribution is a discrete probability distribution that expresses the probability of a given number of events occurring in a fixed interval of time or space if these events occur with a known constant mean rate and independently of the time since the last event.\n",
    "\n",
    "      f(x) =(e– λ λx)/x!\n",
    "\n",
    "Where,\n",
    "\n",
    "e is the base of the logarithm\n",
    "\n",
    "x is a Poisson random variable\n",
    "\n",
    "λ is an average rate of value"
   ]
  },
  {
   "cell_type": "markdown",
   "id": "0e372663",
   "metadata": {},
   "source": [
    "10. Define covariance.\n",
    "\n",
    "Ans: Covariance is a measure of the relationship between two random variables. The metric evaluates how much – to what extent – the variables change together. In other words, it is essentially a measure of the variance between two variables."
   ]
  },
  {
   "cell_type": "markdown",
   "id": "9a15eabb",
   "metadata": {},
   "source": [
    "11. Define correlation\n",
    "\n",
    "Ans: Correlation is a statistical term describing the degree to which two variables move in coordination with one another. If the two variables move in the same direction, then those variables are said to have a positive correlation. If they move in opposite directions, then they have a negative correlation."
   ]
  },
  {
   "cell_type": "markdown",
   "id": "f193be68",
   "metadata": {},
   "source": [
    "12. Define sampling with replacement. Give example.\n",
    "\n",
    "Ans: Sampling with replacement can be defined as random sampling that allows sampling units to occur more than once. Sampling with replacement consists of. A sampling unit (like a glass bead or a row of data) being randomly drawn from a population (like a jar of beads or a dataset)."
   ]
  },
  {
   "cell_type": "markdown",
   "id": "5e865d22",
   "metadata": {},
   "source": [
    "13. What is sampling without replacement? Give example.\n",
    "\n",
    "Ans: Sampling without replacement, in which a subset of the observations are selected randomly, and once an observation is selected it cannot be selected again. \n",
    "For example, if we draw a candy from a box of 9 candies, and then we draw a second candy without replacing the first candy. Of course, the sample space would no longer remain 9 for the second event because we have not replaced the first candy. Thus, the sample space would be 8 for the second event."
   ]
  },
  {
   "cell_type": "markdown",
   "id": "f5dc5dd2",
   "metadata": {},
   "source": [
    "14. What is hypothesis? Give example.\n",
    "\n",
    "Ans: A hypothesis is an assumption that is made based on some evidence. This is the initial point of any investigation that translates the research questions into predictions. It includes components like variables, population and the relation between the variables. A research hypothesis is a hypothesis that is used to test the relationship between two or more variables. Consumption of sugary drinks daily results in obesity. This is an example of a simple hypothesis."
   ]
  }
 ],
 "metadata": {
  "kernelspec": {
   "display_name": "Python 3 (ipykernel)",
   "language": "python",
   "name": "python3"
  },
  "language_info": {
   "codemirror_mode": {
    "name": "ipython",
    "version": 3
   },
   "file_extension": ".py",
   "mimetype": "text/x-python",
   "name": "python",
   "nbconvert_exporter": "python",
   "pygments_lexer": "ipython3",
   "version": "3.9.7"
  }
 },
 "nbformat": 4,
 "nbformat_minor": 5
}
