{
 "cells": [
  {
   "cell_type": "markdown",
   "id": "f18e98cf",
   "metadata": {},
   "source": [
    "1. What is the concept of human learning? Please give two examples.\n",
    "\n",
    "Ans: Learning is the process of acquiring new understanding, knowledge, behaviors, skills, values, attitudes, and preferences. The ability to learn is possessed by humans, animals, and some machines; there is also evidence for some kind of learning in certain plants. Examples - car driving, singing."
   ]
  },
  {
   "cell_type": "markdown",
   "id": "9ffcc243",
   "metadata": {},
   "source": [
    "2. What different forms of human learning are there? Are there any machine learning equivalents?\n",
    "\n",
    "Ans: Differnet forms of human learnings are Visual, Auditory, Read/Write, and Kinaesthetic. Supervised Learning is equivalent."
   ]
  },
  {
   "cell_type": "markdown",
   "id": "3d26e3e8",
   "metadata": {},
   "source": [
    "3. What is machine learning, and how does it work? What are the key responsibilities of machine\n",
    "learning?\n",
    "\n",
    "Ans: Machine learning is a branch of artificial intelligence (AI) and computer science which focuses on the use of data and algorithms to imitate the way that humans learn, gradually improving its accuracy. Machine learning is made up of three parts:\n",
    "\n",
    "    The computational algorithm at the core of making determinations.\n",
    "    Variables and features that make up the decision.\n",
    "    Base knowledge for which the answer is known that enables (trains) the system to learn.\n",
    "\n",
    "Machine learning can be the key to unlocking the value of corporate and customer data and enacting decisions that keep a company ahead of the competition. "
   ]
  },
  {
   "cell_type": "markdown",
   "id": "964003d8",
   "metadata": {},
   "source": [
    "4. Define the terms &quot;penalty&quot; and &quot;reward&quot; in the context of reinforcement learning.\n",
    "\n",
    "Ans: Reinforcement learning is all about gamifying the learning process.\n",
    "This type of machine learning uses a reward-penalty method to teach an AI system. If it makes the right move, it gets rewarded. If it makes a mistake, it receives a penalty."
   ]
  },
  {
   "cell_type": "markdown",
   "id": "34a1b73d",
   "metadata": {},
   "source": [
    "5. Explain the term &quot;learning as a search&quot;?\n",
    "\n",
    "Ans: The goal of this search is to find the hypothesis that best fits the training examples. By selecting a hypothesis representation, the designer of the learning algorithm implicitly defines the space of all hypotheses that the program can ever represent and therefore can ever learn."
   ]
  },
  {
   "cell_type": "markdown",
   "id": "0a745908",
   "metadata": {},
   "source": [
    "6. What are the various goals of machine learning? What is the relationship between these and\n",
    "human learning?\n",
    "\n",
    "Ans: The goal of ML, in simples words, is to understand the nature of (human and other forms of) learning, and to build learning capability in computers. Both machine learning and human learning has lot of similarity.\n"
   ]
  },
  {
   "cell_type": "markdown",
   "id": "6caa4d9b",
   "metadata": {},
   "source": [
    "7. Illustrate the various elements of machine learning using a real-life illustration.\n",
    "\n",
    "Ans: Email automation and spam filteration. "
   ]
  },
  {
   "cell_type": "markdown",
   "id": "eb8b790b",
   "metadata": {},
   "source": [
    "8. Provide an example of the abstraction method.\n",
    "\n",
    "Ans: It involves the translation of data into broader representations. \n",
    "Making coffee with a coffee machine is a good example of abstraction. You need to know how to use your coffee machine to make coffee. You need to provide water and coffee beans, switch it on and select the kind of coffee you want to get."
   ]
  },
  {
   "cell_type": "markdown",
   "id": "80526fbc",
   "metadata": {},
   "source": [
    "9. What is the concept of generalization? What function does it play in the machine learning\n",
    "process?\n",
    "\n",
    "Ans: Generalization refers to your model's ability to adapt properly to new, previously unseen data, drawn from the same distribution as the one used to create the model. Generalization is low if there is large gap between training and validation loss. "
   ]
  },
  {
   "cell_type": "markdown",
   "id": "400b60ac",
   "metadata": {},
   "source": [
    "10. What is classification, exactly? What are the main distinctions between classification and regression?\n",
    "\n",
    "Ans: Classification is a predictive modeling problem where the class label is anticipated for a specific example of input data. For example, in determining handwriting characters, identifying spam.\n",
    "Regression Algorithms are used with continuous data. Classification Algorithms are used with discrete data. In Regression, we try to find the best fit line, which can predict the output more accurately. In Classification, we try to find the decision boundary, which can divide the dataset into different classes."
   ]
  },
  {
   "cell_type": "markdown",
   "id": "f530e9f3",
   "metadata": {},
   "source": [
    "11. What is regression, and how does it work? Give an example of a real-world problem that was\n",
    "solved using regression.\n",
    "\n",
    "Ans: Regression analysis is a statistical method to model the relationship between a dependent (target) and independent (predictor) variables with one or more independent variables. \n",
    "It predicts continuous/real values such as temperature, age, salary, price, etc."
   ]
  },
  {
   "cell_type": "markdown",
   "id": "62ade575",
   "metadata": {},
   "source": [
    "12. Describe the clustering mechanism in detail.\n",
    "\n",
    "Ans: Clustering or cluster analysis is a machine learning technique, which groups the unlabelled dataset. It does it by finding some similar patterns in the unlabelled dataset such as shape, size, color, behavior, etc., and divides them as per the presence and absence of those similar patterns.\n",
    "It is an unsupervised learning method, hence no supervision is provided to the algorithm, and it deals with the unlabeled dataset."
   ]
  },
  {
   "cell_type": "markdown",
   "id": "90190571",
   "metadata": {},
   "source": [
    "13. Make brief observations on two of the following topics:\n",
    "\n",
    "i. Machine learning algorithms are used\n",
    "ii. Studying under supervision\n",
    "iii. Studying without supervision\n",
    "iv. Reinforcement learning is a form of learning based on positive reinforcement."
   ]
  },
  {
   "cell_type": "markdown",
   "id": "316c7132",
   "metadata": {},
   "source": [
    "Ans: Studying under supervision - \n",
    "Supervised learning is the types of machine learning in which machines are trained using well \"labelled\" training data, and on basis of that data, machines predict the output. The labelled data means some input data is already tagged with the correct output.\n",
    "In supervised learning, the training data provided to the machines work as the supervisor that teaches the machines to predict the output correctly. It applies the same concept as a student learns in the supervision of the teacher.\n",
    "Supervised learning is a process of providing input data as well as correct output data to the machine learning model. The aim of a supervised learning algorithm is to find a mapping function to map the input variable(x) with the output variable(y).\n",
    "In the real-world, supervised learning can be used for Risk Assessment, Image classification, Fraud Detection, spam filtering, etc. \n",
    "\n",
    "Supervised learning can be further divided into 2 problems: Regression and Classifcation.\n",
    "1) Regression: Regression algorithms are used if there is a relationship between the input variable and the output variable. It is used for the prediction of continuous variables, such as Weather forecasting, Market Trends, etc. Below are some popular Regression algorithms which come under supervised learning:\n",
    "- Linear Regression\n",
    "- Regression Trees\n",
    "- Non-Linear Regression\n",
    "- Bayesian Linear Regression\n",
    "- Polynomial Regression\n",
    "\n",
    "2) Classification: Classification algorithms are used when the output variable is categorical, which means there are two classes such as Yes-No, Male-Female, True-false, etc. \n",
    "- Random Forest\n",
    "- Decision Trees\n",
    "- Logistic Regression\n",
    "- Support vector Machines\n"
   ]
  },
  {
   "cell_type": "markdown",
   "id": "063411ef",
   "metadata": {},
   "source": [
    "Studying without supervision - \n",
    "Unsupervised learning is another machine learning method in which patterns inferred from the unlabeled input data. The goal of unsupervised learning is to find the structure and patterns from the input data. Unsupervised learning does not need any supervision. Instead, it finds patterns from the data by its own. \n",
    "Unsupervised learning can be used for two types of problems: Clustering and Association."
   ]
  }
 ],
 "metadata": {
  "kernelspec": {
   "display_name": "Python 3 (ipykernel)",
   "language": "python",
   "name": "python3"
  },
  "language_info": {
   "codemirror_mode": {
    "name": "ipython",
    "version": 3
   },
   "file_extension": ".py",
   "mimetype": "text/x-python",
   "name": "python",
   "nbconvert_exporter": "python",
   "pygments_lexer": "ipython3",
   "version": "3.9.7"
  }
 },
 "nbformat": 4,
 "nbformat_minor": 5
}
